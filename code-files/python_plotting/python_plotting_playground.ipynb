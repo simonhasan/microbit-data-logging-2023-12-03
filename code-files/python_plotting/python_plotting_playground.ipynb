{
 "cells": [
  {
   "cell_type": "markdown",
   "metadata": {},
   "source": [
    "# Python Plotting Playground\n",
    "This notebook will help you make simple plots with Python using the `pandas` library. All data was collected using a micro:bit.\n",
    "\n",
    "`pandas` is primarily used for data wrangling, but it does offer simple and intuitive plotting functionality. to find out more see the [documentation](https://pandas.pydata.org/)"
   ]
  },
  {
   "cell_type": "markdown",
   "metadata": {},
   "source": [
    "---\n",
    "## Import the `pandas` Library\n",
    "\n",
    "Import the `pandas` Library with the following code in the code cell:\n",
    "\n",
    "```python\n",
    "import pandas as pd\n",
    "```\n",
    "\n",
    "Press `shift` + `enter` to execute the code cell."
   ]
  },
  {
   "cell_type": "code",
   "execution_count": 7,
   "metadata": {},
   "outputs": [],
   "source": [
    "# Import the pandas library\n"
   ]
  },
  {
   "cell_type": "markdown",
   "metadata": {},
   "source": [
    "---\n",
    "## Load a Dataset as a `pandas` DataFrame\n",
    "Load a `CSV` file with sensor data as a `pandas` DataFrame. You can use `df` or the name of the dataset like `potentiometer_df`.\n",
    "\n",
    "```python\n",
    "df = pd.read_csv('data/potentiometer.csv', index_col=0)\n",
    "```\n",
    "\n",
    "The `data/` before the file name is the path to the data folder in the repository.\n",
    "\n",
    "The `index_col=0` parameter loads the first column with the `Time (seconds)` as an index. Without this the column will be plotted.  \n",
    "\n",
    "The available data files are:\n",
    "\n",
    "- `accelerometer.csv`: Accelerometer data from the micro:bit.\n",
    "- `button.csv`: Button presses data.\n",
    "- `light.csv`: Illuminance data from a photocell.\n",
    "- `pir.csv`: Data from a passive infrared motion sensor.\n",
    "- `potentiometer.csv`: Data from a potentiometer.\n",
    "- `temp_tmp36.csv`: Temperature C data from a TMP36.\n",
    "- `uv.csv`: Data from an analog ultraviolet sensor.\n",
    "- `water_level.csv`: Water level data.\n",
    "\n",
    "Replace the `data/potentiometer.csv` with `data/<file_name.csv>`."
   ]
  },
  {
   "cell_type": "code",
   "execution_count": 8,
   "metadata": {},
   "outputs": [],
   "source": [
    "# Import a dataset as a pandas DataFrame\n"
   ]
  },
  {
   "cell_type": "markdown",
   "metadata": {},
   "source": [
    "---\n",
    "## Preview the Data\n",
    "\n",
    "It is good practice to make sure the data loaded into a DataFrame correctly. You can preview the first five rows with:\n",
    "\n",
    "`df.head()`"
   ]
  },
  {
   "cell_type": "code",
   "execution_count": 9,
   "metadata": {},
   "outputs": [],
   "source": [
    "# Preview the first 5 rows of the DataFrame\n"
   ]
  },
  {
   "cell_type": "markdown",
   "metadata": {},
   "source": [
    "---\n",
    "## Plot the DataFrame\n",
    "Plot the data with one line of code:\n",
    "\n",
    "`df.plot(title='Enter Title Here')`"
   ]
  },
  {
   "cell_type": "code",
   "execution_count": 10,
   "metadata": {},
   "outputs": [],
   "source": [
    "# Plot the DataFrame\n"
   ]
  },
  {
   "cell_type": "markdown",
   "metadata": {},
   "source": []
  }
 ],
 "metadata": {
  "kernelspec": {
   "display_name": "Python 3",
   "language": "python",
   "name": "python3"
  },
  "language_info": {
   "codemirror_mode": {
    "name": "ipython",
    "version": 3
   },
   "file_extension": ".py",
   "mimetype": "text/x-python",
   "name": "python",
   "nbconvert_exporter": "python",
   "pygments_lexer": "ipython3",
   "version": "3.11.2"
  }
 },
 "nbformat": 4,
 "nbformat_minor": 2
}
